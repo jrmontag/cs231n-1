{
 "cells": [
  {
   "cell_type": "markdown",
   "metadata": {},
   "source": [
    "# Softmax exercise\n",
    "\n",
    "*Complete and hand in this completed worksheet (including its outputs and any supporting code outside of the worksheet) with your assignment submission. For more details see the [assignments page](http://vision.stanford.edu/teaching/cs231n/assignments.html) on the course website.*\n",
    "\n",
    "This exercise is analogous to the SVM exercise. You will:\n",
    "\n",
    "- implement a fully-vectorized **loss function** for the Softmax classifier\n",
    "- implement the fully-vectorized expression for its **analytic gradient**\n",
    "- **check your implementation** with numerical gradient\n",
    "- use a validation set to **tune the learning rate and regularization** strength\n",
    "- **optimize** the loss function with **SGD**\n",
    "- **visualize** the final learned weights\n"
   ]
  },
  {
   "cell_type": "code",
   "execution_count": 2,
   "metadata": {
    "collapsed": false
   },
   "outputs": [
    {
     "name": "stdout",
     "output_type": "stream",
     "text": [
      "The autoreload extension is already loaded. To reload it, use:\n",
      "  %reload_ext autoreload\n"
     ]
    }
   ],
   "source": [
    "import random\n",
    "import numpy as np\n",
    "from cs231n.data_utils import load_CIFAR10\n",
    "import matplotlib.pyplot as plt\n",
    "%matplotlib inline\n",
    "plt.rcParams['figure.figsize'] = (10.0, 8.0) # set default size of plots\n",
    "plt.rcParams['image.interpolation'] = 'nearest'\n",
    "plt.rcParams['image.cmap'] = 'gray'\n",
    "\n",
    "# for auto-reloading extenrnal modules\n",
    "# see http://stackoverflow.com/questions/1907993/autoreload-of-modules-in-ipython\n",
    "%load_ext autoreload\n",
    "%autoreload 2"
   ]
  },
  {
   "cell_type": "code",
   "execution_count": 3,
   "metadata": {
    "collapsed": false
   },
   "outputs": [
    {
     "name": "stdout",
     "output_type": "stream",
     "text": [
      "Train data shape:  (49000, 3073)\n",
      "Train labels shape:  (49000,)\n",
      "Validation data shape:  (1000, 3073)\n",
      "Validation labels shape:  (1000,)\n",
      "Test data shape:  (1000, 3073)\n",
      "Test labels shape:  (1000,)\n",
      "dev data shape:  (500, 3073)\n",
      "dev labels shape:  (500,)\n"
     ]
    }
   ],
   "source": [
    "def get_CIFAR10_data(num_training=49000, num_validation=1000, num_test=1000, num_dev=500):\n",
    "  \"\"\"\n",
    "  Load the CIFAR-10 dataset from disk and perform preprocessing to prepare\n",
    "  it for the linear classifier. These are the same steps as we used for the\n",
    "  SVM, but condensed to a single function.  \n",
    "  \"\"\"\n",
    "  # Load the raw CIFAR-10 data\n",
    "  cifar10_dir = 'cs231n/datasets/cifar-10-batches-py'\n",
    "  X_train, y_train, X_test, y_test = load_CIFAR10(cifar10_dir)\n",
    "  \n",
    "  # subsample the data\n",
    "  mask = range(num_training, num_training + num_validation)\n",
    "  X_val = X_train[mask]\n",
    "  y_val = y_train[mask]\n",
    "  mask = range(num_training)\n",
    "  X_train = X_train[mask]\n",
    "  y_train = y_train[mask]\n",
    "  mask = range(num_test)\n",
    "  X_test = X_test[mask]\n",
    "  y_test = y_test[mask]\n",
    "  mask = np.random.choice(num_training, num_dev, replace=False)\n",
    "  X_dev = X_train[mask]\n",
    "  y_dev = y_train[mask]\n",
    "  \n",
    "  # Preprocessing: reshape the image data into rows\n",
    "  X_train = np.reshape(X_train, (X_train.shape[0], -1))\n",
    "  X_val = np.reshape(X_val, (X_val.shape[0], -1))\n",
    "  X_test = np.reshape(X_test, (X_test.shape[0], -1))\n",
    "  X_dev = np.reshape(X_dev, (X_dev.shape[0], -1))\n",
    "  \n",
    "  # Normalize the data: subtract the mean image\n",
    "  mean_image = np.mean(X_train, axis = 0)\n",
    "  X_train -= mean_image\n",
    "  X_val -= mean_image\n",
    "  X_test -= mean_image\n",
    "  X_dev -= mean_image\n",
    "  \n",
    "  # add bias dimension and transform into columns\n",
    "  X_train = np.hstack([X_train, np.ones((X_train.shape[0], 1))])\n",
    "  X_val = np.hstack([X_val, np.ones((X_val.shape[0], 1))])\n",
    "  X_test = np.hstack([X_test, np.ones((X_test.shape[0], 1))])\n",
    "  X_dev = np.hstack([X_dev, np.ones((X_dev.shape[0], 1))])\n",
    "  \n",
    "  return X_train, y_train, X_val, y_val, X_test, y_test, X_dev, y_dev\n",
    "\n",
    "\n",
    "# Invoke the above function to get our data.\n",
    "X_train, y_train, X_val, y_val, X_test, y_test, X_dev, y_dev = get_CIFAR10_data()\n",
    "print 'Train data shape: ', X_train.shape\n",
    "print 'Train labels shape: ', y_train.shape\n",
    "print 'Validation data shape: ', X_val.shape\n",
    "print 'Validation labels shape: ', y_val.shape\n",
    "print 'Test data shape: ', X_test.shape\n",
    "print 'Test labels shape: ', y_test.shape\n",
    "print 'dev data shape: ', X_dev.shape\n",
    "print 'dev labels shape: ', y_dev.shape"
   ]
  },
  {
   "cell_type": "markdown",
   "metadata": {},
   "source": [
    "## Softmax Classifier\n",
    "\n",
    "Your code for this section will all be written inside **cs231n/classifiers/softmax.py**. \n"
   ]
  },
  {
   "cell_type": "code",
   "execution_count": 19,
   "metadata": {
    "collapsed": false
   },
   "outputs": [
    {
     "name": "stdout",
     "output_type": "stream",
     "text": [
      "loss: 2.334908\n",
      "sanity check: 2.302585\n"
     ]
    }
   ],
   "source": [
    "# First implement the naive softmax loss function with nested loops.\n",
    "# Open the file cs231n/classifiers/softmax.py and implement the\n",
    "# softmax_loss_naive function.\n",
    "\n",
    "from cs231n.classifiers.softmax import softmax_loss_naive\n",
    "import time\n",
    "\n",
    "# Generate a random softmax weight matrix and use it to compute the loss.\n",
    "W = np.random.randn(3073, 10) * 0.0001\n",
    "loss, grad = softmax_loss_naive(W, X_dev, y_dev, 0.0)\n",
    "\n",
    "# As a rough sanity check, our loss should be something close to -log(0.1).\n",
    "print 'loss: %f' % loss\n",
    "print 'sanity check: %f' % (-np.log(0.1))"
   ]
  },
  {
   "cell_type": "markdown",
   "metadata": {},
   "source": [
    "## Inline Question 1:\n",
    "Why do we expect our loss to be close to -log(0.1)? Explain briefly.**\n",
    "\n",
    "**Your answer:** If the scores are random (at the beginning), we expect the normalized scores to be 1/N_cl. Consequently, the loss will be -log(1/N_cl) = log(N_cl).\n"
   ]
  },
  {
   "cell_type": "code",
   "execution_count": 81,
   "metadata": {
    "collapsed": false
   },
   "outputs": [
    {
     "name": "stdout",
     "output_type": "stream",
     "text": [
      "numerical: 0.250343 analytic: 0.250343, relative error: 4.453483e-08\n",
      "numerical: 2.836770 analytic: 2.836770, relative error: 1.045625e-09\n",
      "numerical: -2.444030 analytic: -2.444030, relative error: 3.722457e-09\n",
      "numerical: 5.762896 analytic: 5.762896, relative error: 1.255211e-08\n",
      "numerical: 4.026915 analytic: 4.026915, relative error: 3.592339e-09\n",
      "numerical: 1.377579 analytic: 1.377579, relative error: 1.101299e-08\n",
      "numerical: -1.282329 analytic: -1.282329, relative error: 4.127953e-08\n",
      "numerical: -3.207900 analytic: -3.207900, relative error: 2.049184e-09\n",
      "numerical: 0.506875 analytic: 0.506875, relative error: 1.474965e-09\n",
      "numerical: -2.304170 analytic: -2.304170, relative error: 1.791151e-08\n",
      "numerical: 0.187251 analytic: 0.172579, relative error: 4.077434e-02\n",
      "numerical: -0.086807 analytic: -0.089154, relative error: 1.333539e-02\n",
      "numerical: 0.284910 analytic: 0.282361, relative error: 4.494428e-03\n",
      "numerical: 1.859741 analytic: 1.848686, relative error: 2.981086e-03\n",
      "numerical: 1.700941 analytic: 1.692324, relative error: 2.539561e-03\n",
      "numerical: 0.628317 analytic: 0.628183, relative error: 1.069654e-04\n",
      "numerical: 1.579184 analytic: 1.584947, relative error: 1.821170e-03\n",
      "numerical: -0.057666 analytic: -0.065239, relative error: 6.161705e-02\n",
      "numerical: 2.540086 analytic: 2.543148, relative error: 6.023700e-04\n",
      "numerical: -0.929573 analytic: -0.939103, relative error: 5.100287e-03\n"
     ]
    }
   ],
   "source": [
    "# Complete the implementation of softmax_loss_naive and implement a (naive)\n",
    "# version of the gradient that uses nested loops.\n",
    "loss, grad = softmax_loss_naive(W, X_dev, y_dev, 0.0)\n",
    "\n",
    "# As we did for the SVM, use numeric gradient checking as a debugging tool.\n",
    "# The numeric gradient should be close to the analytic gradient.\n",
    "from cs231n.gradient_check import grad_check_sparse\n",
    "f = lambda w: softmax_loss_naive(w, X_dev, y_dev, 0.0)[0]\n",
    "grad_numerical = grad_check_sparse(f, W, grad, 10)\n",
    "\n",
    "# similar to SVM case, do another gradient check with regularization\n",
    "loss, grad = softmax_loss_naive(W, X_dev, y_dev, 1e2)\n",
    "f = lambda w: softmax_loss_naive(w, X_dev, y_dev, 1e2)[0]\n",
    "grad_numerical = grad_check_sparse(f, W, grad, 10)"
   ]
  },
  {
   "cell_type": "code",
   "execution_count": 91,
   "metadata": {
    "collapsed": false
   },
   "outputs": [
    {
     "name": "stdout",
     "output_type": "stream",
     "text": [
      "naive loss: 2.334908e+00 computed in 0.111315s\n",
      "vectorized loss: 2.334908e+00 computed in 0.018092s\n",
      "Loss difference: 0.000000\n",
      "Gradient difference: 0.000000\n"
     ]
    }
   ],
   "source": [
    "# Now that we have a naive implementation of the softmax loss function and its gradient,\n",
    "# implement a vectorized version in softmax_loss_vectorized.\n",
    "# The two versions should compute the same results, but the vectorized version should be\n",
    "# much faster.\n",
    "tic = time.time()\n",
    "loss_naive, grad_naive = softmax_loss_naive(W, X_dev, y_dev, 0.00001)\n",
    "toc = time.time()\n",
    "print 'naive loss: %e computed in %fs' % (loss_naive, toc - tic)\n",
    "\n",
    "from cs231n.classifiers.softmax import softmax_loss_vectorized\n",
    "tic = time.time()\n",
    "loss_vectorized, grad_vectorized = softmax_loss_vectorized(W, X_dev, y_dev, 0.00001)\n",
    "toc = time.time()\n",
    "print 'vectorized loss: %e computed in %fs' % (loss_vectorized, toc - tic)\n",
    "\n",
    "# As we did for the SVM, we use the Frobenius norm to compare the two versions\n",
    "# of the gradient.\n",
    "grad_difference = np.linalg.norm(grad_naive - grad_vectorized, ord='fro')\n",
    "print 'Loss difference: %f' % np.abs(loss_naive - loss_vectorized)\n",
    "print 'Gradient difference: %f' % grad_difference"
   ]
  },
  {
   "cell_type": "code",
   "execution_count": 99,
   "metadata": {
    "collapsed": false
   },
   "outputs": [
    {
     "name": "stdout",
     "output_type": "stream",
     "text": [
      "lr = 0.000001, reg = 24737.875917, train/val accuracy: 0.351347, 0.364000\n",
      "lr = 0.000000, reg = 17889.785273, train/val accuracy: 0.357592, 0.366000\n",
      "lr = 0.000000, reg = 4816.475312, train/val accuracy: 0.350265, 0.347000\n",
      "lr = 0.000000, reg = 8765.649527, train/val accuracy: 0.375980, 0.390000\n",
      "lr = 0.000000, reg = 3831.208548, train/val accuracy: 0.343776, 0.343000\n",
      "lr = 0.000001, reg = 11522.442733, train/val accuracy: 0.363245, 0.367000\n",
      "lr = 0.000000, reg = 6423.853805, train/val accuracy: 0.382714, 0.387000\n",
      "lr = 0.000000, reg = 3825.047289, train/val accuracy: 0.318082, 0.319000\n",
      "lr = 0.000000, reg = 17274.801870, train/val accuracy: 0.365102, 0.376000\n",
      "lr = 0.000001, reg = 7592.781123, train/val accuracy: 0.380653, 0.395000\n",
      "lr = 0.000000, reg = 4232.393088, train/val accuracy: 0.343061, 0.348000\n",
      "lr = 0.000000, reg = 19867.172463, train/val accuracy: 0.353918, 0.373000\n",
      "lr = 0.000001, reg = 6388.117297, train/val accuracy: 0.379245, 0.384000\n",
      "lr = 0.000000, reg = 16253.269957, train/val accuracy: 0.356592, 0.372000\n",
      "lr = 0.000001, reg = 6999.192464, train/val accuracy: 0.379857, 0.385000\n",
      "lr = 0.000001, reg = 14237.509309, train/val accuracy: 0.359122, 0.378000\n",
      "lr = 0.000000, reg = 6926.965071, train/val accuracy: 0.379224, 0.386000\n",
      "lr = 0.000001, reg = 15981.464165, train/val accuracy: 0.352245, 0.374000\n",
      "lr = 0.000001, reg = 9620.045873, train/val accuracy: 0.362224, 0.373000\n",
      "lr = 0.000000, reg = 23001.360541, train/val accuracy: 0.356020, 0.369000\n",
      "lr = 0.000000, reg = 21333.888503, train/val accuracy: 0.355571, 0.366000\n",
      "lr = 0.000000, reg = 10824.037875, train/val accuracy: 0.365367, 0.377000\n",
      "lr = 0.000000, reg = 3573.476040, train/val accuracy: 0.296429, 0.307000\n",
      "lr = 0.000000, reg = 13637.655974, train/val accuracy: 0.366531, 0.381000\n",
      "lr = 0.000000, reg = 4817.787685, train/val accuracy: 0.384755, 0.391000\n",
      "lr = 0.000000, reg = 6285.134113, train/val accuracy: 0.382143, 0.391000\n",
      "lr = 0.000000, reg = 8100.747886, train/val accuracy: 0.378755, 0.382000\n",
      "lr = 0.000000, reg = 4782.982361, train/val accuracy: 0.388449, 0.394000\n",
      "lr = 0.000001, reg = 4896.419980, train/val accuracy: 0.385020, 0.385000\n",
      "lr = 0.000000, reg = 8674.670787, train/val accuracy: 0.352755, 0.348000\n",
      "lr 1.220141e-07 reg 3.573476e+03 train accuracy: 0.296429 val accuracy: 0.307000\n",
      "lr 1.258143e-07 reg 2.300136e+04 train accuracy: 0.356020 val accuracy: 0.369000\n",
      "lr 1.336482e-07 reg 8.674671e+03 train accuracy: 0.352755 val accuracy: 0.348000\n",
      "lr 1.367337e-07 reg 1.788979e+04 train accuracy: 0.357592 val accuracy: 0.366000\n",
      "lr 1.459131e-07 reg 3.825047e+03 train accuracy: 0.318082 val accuracy: 0.319000\n",
      "lr 1.614908e-07 reg 1.082404e+04 train accuracy: 0.365367 val accuracy: 0.377000\n",
      "lr 1.768923e-07 reg 2.133389e+04 train accuracy: 0.355571 val accuracy: 0.366000\n",
      "lr 1.800010e-07 reg 4.816475e+03 train accuracy: 0.350265 val accuracy: 0.347000\n",
      "lr 1.822626e-07 reg 1.986717e+04 train accuracy: 0.353918 val accuracy: 0.373000\n",
      "lr 1.823634e-07 reg 4.232393e+03 train accuracy: 0.343061 val accuracy: 0.348000\n",
      "lr 1.978928e-07 reg 3.831209e+03 train accuracy: 0.343776 val accuracy: 0.343000\n",
      "lr 2.260720e-07 reg 1.363766e+04 train accuracy: 0.366531 val accuracy: 0.381000\n",
      "lr 2.476508e-07 reg 6.926965e+03 train accuracy: 0.379224 val accuracy: 0.386000\n",
      "lr 2.996818e-07 reg 6.423854e+03 train accuracy: 0.382714 val accuracy: 0.387000\n",
      "lr 3.048268e-07 reg 6.285134e+03 train accuracy: 0.382143 val accuracy: 0.391000\n",
      "lr 3.174370e-07 reg 1.625327e+04 train accuracy: 0.356592 val accuracy: 0.372000\n",
      "lr 3.250548e-07 reg 8.765650e+03 train accuracy: 0.375980 val accuracy: 0.390000\n",
      "lr 3.259429e-07 reg 4.817788e+03 train accuracy: 0.384755 val accuracy: 0.391000\n",
      "lr 3.912670e-07 reg 4.782982e+03 train accuracy: 0.388449 val accuracy: 0.394000\n",
      "lr 4.406381e-07 reg 1.727480e+04 train accuracy: 0.365102 val accuracy: 0.376000\n",
      "lr 4.903697e-07 reg 8.100748e+03 train accuracy: 0.378755 val accuracy: 0.382000\n",
      "lr 5.482169e-07 reg 2.473788e+04 train accuracy: 0.351347 val accuracy: 0.364000\n",
      "lr 5.897187e-07 reg 1.423751e+04 train accuracy: 0.359122 val accuracy: 0.378000\n",
      "lr 5.906409e-07 reg 1.152244e+04 train accuracy: 0.363245 val accuracy: 0.367000\n",
      "lr 6.685060e-07 reg 7.592781e+03 train accuracy: 0.380653 val accuracy: 0.395000\n",
      "lr 6.978188e-07 reg 6.999192e+03 train accuracy: 0.379857 val accuracy: 0.385000\n",
      "lr 7.371864e-07 reg 1.598146e+04 train accuracy: 0.352245 val accuracy: 0.374000\n",
      "lr 8.155462e-07 reg 9.620046e+03 train accuracy: 0.362224 val accuracy: 0.373000\n",
      "lr 9.804841e-07 reg 6.388117e+03 train accuracy: 0.379245 val accuracy: 0.384000\n",
      "lr 9.818335e-07 reg 4.896420e+03 train accuracy: 0.385020 val accuracy: 0.385000\n",
      "best validation accuracy achieved during cross-validation: 0.395000\n"
     ]
    }
   ],
   "source": [
    "# Use the validation set to tune hyperparameters (regularization strength and\n",
    "# learning rate). You should experiment with different ranges for the learning\n",
    "# rates and regularization strengths; if you are careful you should be able to\n",
    "# get a classification accuracy of over 0.35 on the validation set.\n",
    "from cs231n.classifiers import Softmax\n",
    "results = {}\n",
    "best_val = -1\n",
    "best_softmax = None\n",
    "\n",
    "num = 30\n",
    "\n",
    "learning_rates = 10 ** np.random.uniform(-7, -6, size=num)\n",
    "regularization_strengths = 10 ** np.random.uniform(3.5, 4.5, size=num)\n",
    "\n",
    "\n",
    "################################################################################\n",
    "# TODO:                                                                        #\n",
    "# Use the validation set to set the learning rate and regularization strength. #\n",
    "# This should be identical to the validation that you did for the SVM; save    #\n",
    "# the best trained softmax classifer in best_softmax.                          #\n",
    "################################################################################\n",
    "for lr, reg in zip(learning_rates, regularization_strengths):\n",
    "    sm = Softmax()\n",
    "    sm.train(X_train, y_train, learning_rate=lr, reg=reg,\n",
    "             num_iters=1500, batch_size=200, verbose=False)\n",
    "    y_train_pred = sm.predict(X_train)\n",
    "    acc_train = np.mean(y_train == y_train_pred)\n",
    "    y_val_pred = sm.predict(X_val)\n",
    "    acc_val = np.mean(y_val == y_val_pred)\n",
    "    print 'lr = %f, reg = %f, train/val accuracy: %f, %f' % (lr, reg, acc_train, acc_val)\n",
    "    \n",
    "    if acc_val > best_val:\n",
    "        best_val = acc_val\n",
    "        best_softmax = sm\n",
    "        \n",
    "    results[(lr, reg)] = (acc_train, acc_val)\n",
    "################################################################################\n",
    "#                              END OF YOUR CODE                                #\n",
    "################################################################################\n",
    "    \n",
    "# Print out results.\n",
    "for lr, reg in sorted(results):\n",
    "    train_accuracy, val_accuracy = results[(lr, reg)]\n",
    "    print 'lr %e reg %e train accuracy: %f val accuracy: %f' % (\n",
    "                lr, reg, train_accuracy, val_accuracy)\n",
    "    \n",
    "print 'best validation accuracy achieved during cross-validation: %f' % best_val"
   ]
  },
  {
   "cell_type": "code",
   "execution_count": 100,
   "metadata": {
    "collapsed": false
   },
   "outputs": [
    {
     "name": "stdout",
     "output_type": "stream",
     "text": [
      "softmax on raw pixels final test set accuracy: 0.364000\n"
     ]
    }
   ],
   "source": [
    "# evaluate on test set\n",
    "# Evaluate the best softmax on test set\n",
    "y_test_pred = best_softmax.predict(X_test)\n",
    "test_accuracy = np.mean(y_test == y_test_pred)\n",
    "print 'softmax on raw pixels final test set accuracy: %f' % (test_accuracy, )"
   ]
  },
  {
   "cell_type": "code",
   "execution_count": 101,
   "metadata": {
    "collapsed": false
   },
   "outputs": [
    {
     "data": {
      "image/png": "[encoded data removed]",
      "text/plain": [
       "<matplotlib.figure.Figure at 0x7f9391553e50>"
      ]
     },
     "metadata": {},
     "output_type": "display_data"
    }
   ],
   "source": [
    "# Visualize the learned weights for each class\n",
    "w = best_softmax.W[:-1,:] # strip out the bias\n",
    "w = w.reshape(32, 32, 3, 10)\n",
    "\n",
    "w_min, w_max = np.min(w), np.max(w)\n",
    "\n",
    "classes = ['plane', 'car', 'bird', 'cat', 'deer', 'dog', 'frog', 'horse', 'ship', 'truck']\n",
    "for i in xrange(10):\n",
    "  plt.subplot(2, 5, i + 1)\n",
    "  \n",
    "  # Rescale the weights to be between 0 and 255\n",
    "  wimg = 255.0 * (w[:, :, :, i].squeeze() - w_min) / (w_max - w_min)\n",
    "  plt.imshow(wimg.astype('uint8'))\n",
    "  plt.axis('off')\n",
    "  plt.title(classes[i])"
   ]
  },
  {
   "cell_type": "code",
   "execution_count": null,
   "metadata": {
    "collapsed": true
   },
   "outputs": [],
   "source": []
  }
 ],
 "metadata": {
  "kernelspec": {
   "display_name": "Python 2",
   "language": "python",
   "name": "python2"
  },
  "language_info": {
   "codemirror_mode": {
    "name": "ipython",
    "version": 2
   },
   "file_extension": ".py",
   "mimetype": "text/x-python",
   "name": "python",
   "nbconvert_exporter": "python",
   "pygments_lexer": "ipython2",
   "version": "2.7.12"
  }
 },
 "nbformat": 4,
 "nbformat_minor": 0
}
